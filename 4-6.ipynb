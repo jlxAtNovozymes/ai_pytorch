{
 "cells": [
  {
   "cell_type": "markdown",
   "id": "58572f08-ed11-4c7c-9f01-f824757933a3",
   "metadata": {},
   "source": [
    "## 4. 数据操作"
   ]
  },
  {
   "cell_type": "code",
   "execution_count": 52,
   "id": "da537916-8c96-4c17-9db0-cbb6fe89b6d4",
   "metadata": {},
   "outputs": [],
   "source": [
    "import numpy as np\n",
    "import torch"
   ]
  },
  {
   "cell_type": "markdown",
   "id": "a9f6d21d-2995-4dda-8202-d1cbea191754",
   "metadata": {},
   "source": [
    "### 4.1 numpy和torch构建特殊向量是一样的"
   ]
  },
  {
   "cell_type": "code",
   "execution_count": 53,
   "id": "b7a79239-35ba-4c49-be65-88ac958bcc6b",
   "metadata": {},
   "outputs": [
    {
     "data": {
      "text/plain": [
       "(array([0, 1, 2]), tensor([0, 1, 2]))"
      ]
     },
     "execution_count": 53,
     "metadata": {},
     "output_type": "execute_result"
    }
   ],
   "source": [
    "(np.arange(3), torch.arange(3))"
   ]
  },
  {
   "cell_type": "markdown",
   "id": "4833a4db-c370-426b-87f8-b39f9a53015e",
   "metadata": {},
   "source": [
    "### 4.2 torch和numpy对一维向量的reshape操作也是一样"
   ]
  },
  {
   "cell_type": "code",
   "execution_count": 54,
   "id": "6ecec787-e1ed-41b5-b67b-6bc3030674d7",
   "metadata": {},
   "outputs": [
    {
     "data": {
      "text/plain": [
       "(array([[0, 1, 2],\n",
       "        [3, 4, 5]]),\n",
       " tensor([[0, 1, 2],\n",
       "         [3, 4, 5]]))"
      ]
     },
     "execution_count": 54,
     "metadata": {},
     "output_type": "execute_result"
    }
   ],
   "source": [
    "(np.arange(6).reshape(2,3), torch.arange(6).reshape(2,3))"
   ]
  },
  {
   "cell_type": "markdown",
   "id": "3b9269ff-0817-4056-a09b-b90f7c091fce",
   "metadata": {},
   "source": [
    "### 4.3 torch和numpy构建特殊矩阵也是一样的"
   ]
  },
  {
   "cell_type": "code",
   "execution_count": 57,
   "id": "e1ccf4f7-06de-4c27-a70e-a5d863123c3b",
   "metadata": {},
   "outputs": [
    {
     "data": {
      "text/plain": [
       "(array([[1., 1., 1.],\n",
       "        [1., 1., 1.]]),\n",
       " tensor([[0., 0., 0.],\n",
       "         [0., 0., 0.]]))"
      ]
     },
     "execution_count": 57,
     "metadata": {},
     "output_type": "execute_result"
    }
   ],
   "source": [
    "(np.ones((2,3)), torch.zeros((2,3)))"
   ]
  },
  {
   "cell_type": "markdown",
   "id": "582ca316-bad1-47a2-a6e3-e2859f489235",
   "metadata": {},
   "source": [
    "### 4.4 torch和numpy向量的长度属性和方法不一致"
   ]
  },
  {
   "cell_type": "code",
   "execution_count": 59,
   "id": "98fe9a6c-4728-4161-ba9e-79f2663da42d",
   "metadata": {},
   "outputs": [
    {
     "data": {
      "text/plain": [
       "((3,), torch.Size([3]), 3, 3)"
      ]
     },
     "execution_count": 59,
     "metadata": {},
     "output_type": "execute_result"
    }
   ],
   "source": [
    "(np.arange(3).shape, torch.arange(3).shape,\n",
    "np.arange(3).size, torch.arange(3).numel())"
   ]
  },
  {
   "cell_type": "markdown",
   "id": "ec1f3e80-b3f7-4d9c-b7f8-23459697fe96",
   "metadata": {},
   "source": [
    "### 4.5 torch和numpy的数据类型转换不一样"
   ]
  },
  {
   "cell_type": "code",
   "execution_count": 61,
   "id": "b9eeada7-d4a1-45c4-99db-b584801fb87f",
   "metadata": {},
   "outputs": [
    {
     "data": {
      "text/plain": [
       "(array([0, 1, 2], dtype=int16), tensor([0., 1., 2.], dtype=torch.float64))"
      ]
     },
     "execution_count": 61,
     "metadata": {},
     "output_type": "execute_result"
    }
   ],
   "source": [
    "(np.arange(3).astype(np.int16),\n",
    "torch.arange(3).to(torch.float64))"
   ]
  },
  {
   "cell_type": "markdown",
   "id": "4488e677-a9ba-4bf5-886a-67a096fd5bfc",
   "metadata": {},
   "source": [
    "### 4.6 torch和numpy 指数操作"
   ]
  },
  {
   "cell_type": "code",
   "execution_count": 66,
   "id": "8ead181a-107d-4b54-acc6-11d9d9181724",
   "metadata": {},
   "outputs": [
    {
     "data": {
      "text/plain": [
       "(array([[  1.       ,   2.718282 ,   7.3890557],\n",
       "        [ 20.085537 ,  54.59815  , 148.41316  ]], dtype=float32),\n",
       " tensor([[  1.0000,   2.7183],\n",
       "         [  7.3891,  20.0855],\n",
       "         [ 54.5981, 148.4132]]))"
      ]
     },
     "execution_count": 66,
     "metadata": {},
     "output_type": "execute_result"
    }
   ],
   "source": [
    "(np.exp(np.arange(6, dtype=np.float32).reshape(2,-1)),\n",
    " torch.exp(torch.arange(6, dtype=torch.float32).reshape(3,-1)))"
   ]
  },
  {
   "cell_type": "code",
   "execution_count": 48,
   "id": "0b49b1ea-0208-42db-83a6-b58fe765e1db",
   "metadata": {},
   "outputs": [
    {
     "data": {
      "text/plain": [
       "tensor([  2.7183,   7.3891,  20.0855,  20.0855,  54.5981, 148.4132])"
      ]
     },
     "execution_count": 48,
     "metadata": {},
     "output_type": "execute_result"
    }
   ],
   "source": [
    "torch.exp(y.reshape(-1,).to(torch.int16))"
   ]
  },
  {
   "cell_type": "markdown",
   "id": "056d7a77-7749-4f50-b72c-6b73c33c307c",
   "metadata": {},
   "source": [
    "### 4.7 torch和numpy在向量，矩阵的合并操作上不一样"
   ]
  },
  {
   "cell_type": "markdown",
   "id": "ef73dfd8-64fc-4c78-b5bd-762ad569a725",
   "metadata": {},
   "source": [
    "##### 1. torch.cat函数有dim参数，代表连接方向\n",
    "##### 2. torch.cat函数接收list or tuple\n",
    "##### 3. numpy.c_[]和numpy.r_[]函数 接收 分开传入的向量"
   ]
  },
  {
   "cell_type": "code",
   "execution_count": 73,
   "id": "5407662e-5272-4545-a7cb-19815081ef67",
   "metadata": {},
   "outputs": [
    {
     "data": {
      "text/plain": [
       "(array([[1., 0.],\n",
       "        [1., 0.],\n",
       "        [1., 0.]]),\n",
       " array([1., 1., 1., 0., 0., 0.]),\n",
       " tensor([[1., 0.],\n",
       "         [1., 0.],\n",
       "         [1., 0.]]),\n",
       " tensor([1., 1., 1., 0., 0., 0.]))"
      ]
     },
     "execution_count": 73,
     "metadata": {},
     "output_type": "execute_result"
    }
   ],
   "source": [
    "np.c_[np.ones(3).reshape(-1,1), np.zeros(3).reshape(-1,1)], \\\n",
    "np.r_[np.ones(3), np.zeros(3)], \\\n",
    "torch.cat([torch.ones(3).reshape(-1,1), torch.zeros(3).reshape(-1,1)], dim=1), \\\n",
    "torch.cat((torch.ones(3), torch.zeros(3)), dim=0)"
   ]
  },
  {
   "cell_type": "markdown",
   "id": "3e364192-b67d-41fa-9e21-3dfa101902fb",
   "metadata": {
    "tags": []
   },
   "source": [
    "### 4.8 tensor的matrix如果是单索引，则选择行。多索引 -> 用:表示选择这一维度的所有"
   ]
  },
  {
   "cell_type": "code",
   "execution_count": 77,
   "id": "ca70a45f-3bd9-49f6-963f-7d637ebf7cbf",
   "metadata": {},
   "outputs": [
    {
     "data": {
      "text/plain": [
       "(array([0, 1]), tensor([0, 1]), array([2, 3]), tensor([2, 3]))"
      ]
     },
     "execution_count": 77,
     "metadata": {},
     "output_type": "execute_result"
    }
   ],
   "source": [
    "x = np.arange(4).reshape(2,-1)\n",
    "y = torch.arange(4).reshape(2,-1)\n",
    "x[0], y[0], x[1,:], y[1,:]"
   ]
  },
  {
   "cell_type": "markdown",
   "id": "e64790b6-3d0a-4ff7-b496-363672d59469",
   "metadata": {},
   "source": [
    "### 4.9 python中的原位操作"
   ]
  },
  {
   "cell_type": "code",
   "execution_count": 87,
   "id": "7a477c5f-0545-4a06-85f1-f009ae82d500",
   "metadata": {},
   "outputs": [
    {
     "data": {
      "text/plain": [
       "(3078336861488, 3078336861488, 3078336861488, 140710099149640)"
      ]
     },
     "execution_count": 87,
     "metadata": {},
     "output_type": "execute_result"
    }
   ],
   "source": [
    "x = np.arange(6).reshape(2,-1)\n",
    "first_id = id(x)\n",
    "x[:] = 2\n",
    "second_id = id(x)\n",
    "x += 3\n",
    "third_id = id(x)\n",
    "x = 2\n",
    "fourth_id = id(x)\n",
    "first_id, second_id, third_id, fourth_id"
   ]
  },
  {
   "cell_type": "markdown",
   "id": "2db597e6-d169-4838-a106-b2646b218cb6",
   "metadata": {},
   "source": [
    "#### 4.10 numpy和torch之间的转换"
   ]
  },
  {
   "cell_type": "code",
   "execution_count": 94,
   "id": "4186af95-a051-4272-885e-632e64f7dca0",
   "metadata": {},
   "outputs": [
    {
     "data": {
      "text/plain": [
       "(tensor([0, 1, 2], dtype=torch.int32), [1.0, 1.0])"
      ]
     },
     "execution_count": 94,
     "metadata": {},
     "output_type": "execute_result"
    }
   ],
   "source": [
    "torch.tensor(np.arange(3)), torch.ones(2).tolist()"
   ]
  },
  {
   "cell_type": "markdown",
   "id": "f22fc2b5-68c4-4df4-ba6d-f94e0eb0bc54",
   "metadata": {},
   "source": [
    "#### 4.11 如何利用with，file.write，一行一行的写入数据"
   ]
  },
  {
   "cell_type": "code",
   "execution_count": 107,
   "id": "4ea4c88a-2b9b-4e4f-9fb1-33eb93a857fb",
   "metadata": {},
   "outputs": [],
   "source": [
    "import os\n",
    "f_path = './test.csv'\n",
    "with open(f_path, 'w') as f:\n",
    "    f.write('con,enz,res\\n')\n",
    "    f.write('1,p,23\\n')\n",
    "    f.write('2,a,NA\\n')\n",
    "    f.write('3,NA,NA\\n')"
   ]
  },
  {
   "cell_type": "markdown",
   "id": "ce7c394a-4796-47c2-ad30-918559278651",
   "metadata": {},
   "source": [
    "#### 4.12 利用pandas读取文件"
   ]
  },
  {
   "cell_type": "code",
   "execution_count": 129,
   "id": "56afe5f8-6435-4c12-b3a7-6a4d4deedf30",
   "metadata": {},
   "outputs": [
    {
     "data": {
      "text/html": [
       "<div>\n",
       "<style scoped>\n",
       "    .dataframe tbody tr th:only-of-type {\n",
       "        vertical-align: middle;\n",
       "    }\n",
       "\n",
       "    .dataframe tbody tr th {\n",
       "        vertical-align: top;\n",
       "    }\n",
       "\n",
       "    .dataframe thead th {\n",
       "        text-align: right;\n",
       "    }\n",
       "</style>\n",
       "<table border=\"1\" class=\"dataframe\">\n",
       "  <thead>\n",
       "    <tr style=\"text-align: right;\">\n",
       "      <th></th>\n",
       "      <th>con</th>\n",
       "      <th>enz</th>\n",
       "      <th>res</th>\n",
       "    </tr>\n",
       "  </thead>\n",
       "  <tbody>\n",
       "    <tr>\n",
       "      <th>0</th>\n",
       "      <td>1</td>\n",
       "      <td>p</td>\n",
       "      <td>23.0</td>\n",
       "    </tr>\n",
       "    <tr>\n",
       "      <th>1</th>\n",
       "      <td>2</td>\n",
       "      <td>a</td>\n",
       "      <td>NaN</td>\n",
       "    </tr>\n",
       "    <tr>\n",
       "      <th>2</th>\n",
       "      <td>3</td>\n",
       "      <td>NaN</td>\n",
       "      <td>NaN</td>\n",
       "    </tr>\n",
       "  </tbody>\n",
       "</table>\n",
       "</div>"
      ],
      "text/plain": [
       "   con  enz   res\n",
       "0    1    p  23.0\n",
       "1    2    a   NaN\n",
       "2    3  NaN   NaN"
      ]
     },
     "execution_count": 129,
     "metadata": {},
     "output_type": "execute_result"
    }
   ],
   "source": [
    "import pandas as pd\n",
    "df = pd.read_csv('./test.csv')\n",
    "df"
   ]
  },
  {
   "cell_type": "markdown",
   "id": "d38115e3-6cfe-42e1-bf53-d87bb1e7c309",
   "metadata": {},
   "source": [
    "#### 4.13 在pandas中，利用iloc，提取predictors和outcome"
   ]
  },
  {
   "cell_type": "code",
   "execution_count": 112,
   "id": "6675f838-a895-4245-8b2e-1ade27eb9f5d",
   "metadata": {},
   "outputs": [
    {
     "data": {
      "text/plain": [
       "(   con  enz\n",
       " 0    1    p\n",
       " 1    2    a\n",
       " 2    3  NaN,\n",
       " 0    23.0\n",
       " 1     NaN\n",
       " 2     NaN\n",
       " Name: res, dtype: float64)"
      ]
     },
     "execution_count": 112,
     "metadata": {},
     "output_type": "execute_result"
    }
   ],
   "source": [
    "predictor, outcome = df.iloc[:, :-1], df.iloc[:, -1]\n",
    "predictor, outcome"
   ]
  },
  {
   "cell_type": "markdown",
   "id": "a4e36d88-83de-472a-9d62-39111a0dda63",
   "metadata": {},
   "source": [
    "#### 4.14 在pandas中，对整个df的所有numeric列填充NA"
   ]
  },
  {
   "cell_type": "code",
   "execution_count": 119,
   "id": "ca10a8fd-2e89-4927-8b3a-aec23bc0ce31",
   "metadata": {},
   "outputs": [
    {
     "data": {
      "text/html": [
       "<div>\n",
       "<style scoped>\n",
       "    .dataframe tbody tr th:only-of-type {\n",
       "        vertical-align: middle;\n",
       "    }\n",
       "\n",
       "    .dataframe tbody tr th {\n",
       "        vertical-align: top;\n",
       "    }\n",
       "\n",
       "    .dataframe thead th {\n",
       "        text-align: right;\n",
       "    }\n",
       "</style>\n",
       "<table border=\"1\" class=\"dataframe\">\n",
       "  <thead>\n",
       "    <tr style=\"text-align: right;\">\n",
       "      <th></th>\n",
       "      <th>con</th>\n",
       "      <th>res</th>\n",
       "    </tr>\n",
       "  </thead>\n",
       "  <tbody>\n",
       "    <tr>\n",
       "      <th>0</th>\n",
       "      <td>1</td>\n",
       "      <td>23.0</td>\n",
       "    </tr>\n",
       "    <tr>\n",
       "      <th>1</th>\n",
       "      <td>2</td>\n",
       "      <td>23.0</td>\n",
       "    </tr>\n",
       "    <tr>\n",
       "      <th>2</th>\n",
       "      <td>3</td>\n",
       "      <td>23.0</td>\n",
       "    </tr>\n",
       "  </tbody>\n",
       "</table>\n",
       "</div>"
      ],
      "text/plain": [
       "   con   res\n",
       "0    1  23.0\n",
       "1    2  23.0\n",
       "2    3  23.0"
      ]
     },
     "execution_count": 119,
     "metadata": {},
     "output_type": "execute_result"
    }
   ],
   "source": [
    "df.select_dtypes('number').fillna(df.select_dtypes('number').mean())"
   ]
  },
  {
   "cell_type": "markdown",
   "id": "fc0558b1-d0ab-491c-bc7e-c744373751cd",
   "metadata": {},
   "source": [
    "#### 4.15 在pandas中，对qualitative列做dummy操作，并且忽视numeric列"
   ]
  },
  {
   "cell_type": "code",
   "execution_count": 121,
   "id": "2f025416-ae9a-4d2e-9777-fbe0ce9e779b",
   "metadata": {},
   "outputs": [
    {
     "data": {
      "text/html": [
       "<div>\n",
       "<style scoped>\n",
       "    .dataframe tbody tr th:only-of-type {\n",
       "        vertical-align: middle;\n",
       "    }\n",
       "\n",
       "    .dataframe tbody tr th {\n",
       "        vertical-align: top;\n",
       "    }\n",
       "\n",
       "    .dataframe thead th {\n",
       "        text-align: right;\n",
       "    }\n",
       "</style>\n",
       "<table border=\"1\" class=\"dataframe\">\n",
       "  <thead>\n",
       "    <tr style=\"text-align: right;\">\n",
       "      <th></th>\n",
       "      <th>con</th>\n",
       "      <th>res</th>\n",
       "      <th>enz_a</th>\n",
       "      <th>enz_p</th>\n",
       "      <th>enz_nan</th>\n",
       "    </tr>\n",
       "  </thead>\n",
       "  <tbody>\n",
       "    <tr>\n",
       "      <th>0</th>\n",
       "      <td>1</td>\n",
       "      <td>23.0</td>\n",
       "      <td>0</td>\n",
       "      <td>1</td>\n",
       "      <td>0</td>\n",
       "    </tr>\n",
       "    <tr>\n",
       "      <th>1</th>\n",
       "      <td>2</td>\n",
       "      <td>NaN</td>\n",
       "      <td>1</td>\n",
       "      <td>0</td>\n",
       "      <td>0</td>\n",
       "    </tr>\n",
       "    <tr>\n",
       "      <th>2</th>\n",
       "      <td>3</td>\n",
       "      <td>NaN</td>\n",
       "      <td>0</td>\n",
       "      <td>0</td>\n",
       "      <td>1</td>\n",
       "    </tr>\n",
       "  </tbody>\n",
       "</table>\n",
       "</div>"
      ],
      "text/plain": [
       "   con   res  enz_a  enz_p  enz_nan\n",
       "0    1  23.0      0      1        0\n",
       "1    2   NaN      1      0        0\n",
       "2    3   NaN      0      0        1"
      ]
     },
     "execution_count": 121,
     "metadata": {},
     "output_type": "execute_result"
    }
   ],
   "source": [
    "pd.get_dummies(df, dummy_na=True)"
   ]
  },
  {
   "cell_type": "markdown",
   "id": "2d18d2ac-4314-4241-b502-055b02a1270f",
   "metadata": {},
   "source": [
    "#### 4.16 在pandas对数据做完预处理后，用torch.tensor()将DataFrame转变成tensor"
   ]
  },
  {
   "cell_type": "code",
   "execution_count": 130,
   "id": "083eee52-1b57-4f41-b74a-b84d65ed4318",
   "metadata": {
    "tags": []
   },
   "outputs": [
    {
     "data": {
      "text/html": [
       "<div>\n",
       "<style scoped>\n",
       "    .dataframe tbody tr th:only-of-type {\n",
       "        vertical-align: middle;\n",
       "    }\n",
       "\n",
       "    .dataframe tbody tr th {\n",
       "        vertical-align: top;\n",
       "    }\n",
       "\n",
       "    .dataframe thead th {\n",
       "        text-align: right;\n",
       "    }\n",
       "</style>\n",
       "<table border=\"1\" class=\"dataframe\">\n",
       "  <thead>\n",
       "    <tr style=\"text-align: right;\">\n",
       "      <th></th>\n",
       "      <th>con</th>\n",
       "      <th>res</th>\n",
       "      <th>enz_a</th>\n",
       "      <th>enz_p</th>\n",
       "      <th>enz_nan</th>\n",
       "    </tr>\n",
       "  </thead>\n",
       "  <tbody>\n",
       "    <tr>\n",
       "      <th>0</th>\n",
       "      <td>1</td>\n",
       "      <td>23.0</td>\n",
       "      <td>0</td>\n",
       "      <td>1</td>\n",
       "      <td>0</td>\n",
       "    </tr>\n",
       "    <tr>\n",
       "      <th>1</th>\n",
       "      <td>2</td>\n",
       "      <td>23.0</td>\n",
       "      <td>1</td>\n",
       "      <td>0</td>\n",
       "      <td>0</td>\n",
       "    </tr>\n",
       "    <tr>\n",
       "      <th>2</th>\n",
       "      <td>3</td>\n",
       "      <td>23.0</td>\n",
       "      <td>0</td>\n",
       "      <td>0</td>\n",
       "      <td>1</td>\n",
       "    </tr>\n",
       "  </tbody>\n",
       "</table>\n",
       "</div>"
      ],
      "text/plain": [
       "   con   res  enz_a  enz_p  enz_nan\n",
       "0    1  23.0      0      1        0\n",
       "1    2  23.0      1      0        0\n",
       "2    3  23.0      0      0        1"
      ]
     },
     "execution_count": 130,
     "metadata": {},
     "output_type": "execute_result"
    }
   ],
   "source": [
    "df = pd.get_dummies(df, dummy_na=True)\n",
    "df_number = df.select_dtypes(include=np.number)\n",
    "df_object = df.select_dtypes(include=np.object_)\n",
    "df_number = df_number.fillna(df_number.mean())\n",
    "df = pd.concat([df_number, df_object], axis=1)\n",
    "df"
   ]
  },
  {
   "cell_type": "code",
   "execution_count": 146,
   "id": "501c7cc8-ceff-48a8-82a0-849c34a2a50d",
   "metadata": {},
   "outputs": [
    {
     "data": {
      "text/plain": [
       "(tensor([[1, 0, 1, 0],\n",
       "         [2, 1, 0, 0],\n",
       "         [3, 0, 0, 1]]),\n",
       " tensor([23., 23., 23.], dtype=torch.float64))"
      ]
     },
     "execution_count": 146,
     "metadata": {},
     "output_type": "execute_result"
    }
   ],
   "source": [
    "torch.tensor(df.loc[:, ['con', 'enz_a', 'enz_p', 'enz_nan']].to_numpy()), \\\n",
    "torch.tensor(df.loc[:, 'res'])"
   ]
  }
 ],
 "metadata": {
  "kernelspec": {
   "display_name": "Python 3 (ipykernel)",
   "language": "python",
   "name": "python3"
  },
  "language_info": {
   "codemirror_mode": {
    "name": "ipython",
    "version": 3
   },
   "file_extension": ".py",
   "mimetype": "text/x-python",
   "name": "python",
   "nbconvert_exporter": "python",
   "pygments_lexer": "ipython3",
   "version": "3.11.1"
  }
 },
 "nbformat": 4,
 "nbformat_minor": 5
}
